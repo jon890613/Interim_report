{
  "nbformat": 4,
  "nbformat_minor": 0,
  "metadata": {
    "colab": {
      "name": "Untitled6.ipynb",
      "provenance": [],
      "authorship_tag": "ABX9TyMAzyjG3fx4TgV4OWtY8fDL",
      "include_colab_link": true
    },
    "kernelspec": {
      "name": "python3",
      "display_name": "Python 3"
    }
  },
  "cells": [
    {
      "cell_type": "markdown",
      "metadata": {
        "id": "view-in-github",
        "colab_type": "text"
      },
      "source": [
        "<a href=\"https://colab.research.google.com/github/jon890613/Interim_report/blob/main/Untitled6.ipynb\" target=\"_parent\"><img src=\"https://colab.research.google.com/assets/colab-badge.svg\" alt=\"Open In Colab\"/></a>"
      ]
    },
    {
      "cell_type": "code",
      "metadata": {
        "id": "UcaujECv9FlH"
      },
      "source": [
        "import pandas as pd\n",
        "import numpy as np\n"
      ],
      "execution_count": 5,
      "outputs": []
    },
    {
      "cell_type": "code",
      "metadata": {
        "id": "8VR6cEi19Vmo",
        "outputId": "3e3244f5-0227-4136-b9a6-c949e457bd3a",
        "colab": {
          "base_uri": "https://localhost:8080/"
        }
      },
      "source": [
        "data = pd.Series(np.random.randn(9),\n",
        "          index=[['a', 'a', 'a', 'b', 'b', 'c', 'c', 'd', 'd'],\n",
        "          [1, 2, 3, 1, 3, 1, 2, 2, 3]])\n",
        "print(data)"
      ],
      "execution_count": 6,
      "outputs": [
        {
          "output_type": "stream",
          "text": [
            "a  1   -0.090497\n",
            "   2   -1.178729\n",
            "   3   -0.689071\n",
            "b  1    0.045723\n",
            "   3   -0.737786\n",
            "c  1   -0.008635\n",
            "   2   -3.151746\n",
            "d  2   -0.478635\n",
            "   3   -0.342297\n",
            "dtype: float64\n"
          ],
          "name": "stdout"
        }
      ]
    },
    {
      "cell_type": "code",
      "metadata": {
        "id": "exNh0YR6DQJj",
        "outputId": "cf1f6e16-4377-47a7-b281-07cbd2ce21e7",
        "colab": {
          "base_uri": "https://localhost:8080/"
        }
      },
      "source": [
        "!wget https://raw.githubusercontent.com/wesm/pydata-book/2nd-edition/datasets/fec/P00000001-ALL.csv\n"
      ],
      "execution_count": 7,
      "outputs": [
        {
          "output_type": "stream",
          "text": [
            "--2020-11-08 07:35:56--  https://raw.githubusercontent.com/wesm/pydata-book/2nd-edition/datasets/fec/P00000001-ALL.csv\n",
            "Resolving raw.githubusercontent.com (raw.githubusercontent.com)... 151.101.0.133, 151.101.64.133, 151.101.128.133, ...\n",
            "Connecting to raw.githubusercontent.com (raw.githubusercontent.com)|151.101.0.133|:443... connected.\n",
            "HTTP request sent, awaiting response... 200 OK\n",
            "Length: 157871393 (151M) [text/plain]\n",
            "Saving to: ‘P00000001-ALL.csv’\n",
            "\n",
            "P00000001-ALL.csv   100%[===================>] 150.56M   104MB/s    in 1.4s    \n",
            "\n",
            "2020-11-08 07:35:58 (104 MB/s) - ‘P00000001-ALL.csv’ saved [157871393/157871393]\n",
            "\n"
          ],
          "name": "stdout"
        }
      ]
    },
    {
      "cell_type": "code",
      "metadata": {
        "id": "uDXJiZ5o9YeY"
      },
      "source": [
        "pd.options.display.max_rows = 10\n",
        "fec = pd.read_csv('P00000001-ALL.csv', low_memory=False)\n",
        "\n"
      ],
      "execution_count": 8,
      "outputs": []
    },
    {
      "cell_type": "code",
      "metadata": {
        "id": "tX17kLKSHaLk",
        "outputId": "1c4e3d06-fa38-44e8-fb20-90a032e3fd4a",
        "colab": {
          "base_uri": "https://localhost:8080/"
        }
      },
      "source": [
        "fec.info()"
      ],
      "execution_count": 9,
      "outputs": [
        {
          "output_type": "stream",
          "text": [
            "<class 'pandas.core.frame.DataFrame'>\n",
            "RangeIndex: 1001731 entries, 0 to 1001730\n",
            "Data columns (total 16 columns):\n",
            " #   Column             Non-Null Count    Dtype  \n",
            "---  ------             --------------    -----  \n",
            " 0   cmte_id            1001731 non-null  object \n",
            " 1   cand_id            1001731 non-null  object \n",
            " 2   cand_nm            1001731 non-null  object \n",
            " 3   contbr_nm          1001731 non-null  object \n",
            " 4   contbr_city        1001712 non-null  object \n",
            " 5   contbr_st          1001727 non-null  object \n",
            " 6   contbr_zip         1001620 non-null  object \n",
            " 7   contbr_employer    988002 non-null   object \n",
            " 8   contbr_occupation  993301 non-null   object \n",
            " 9   contb_receipt_amt  1001731 non-null  float64\n",
            " 10  contb_receipt_dt   1001731 non-null  object \n",
            " 11  receipt_desc       14166 non-null    object \n",
            " 12  memo_cd            92482 non-null    object \n",
            " 13  memo_text          97770 non-null    object \n",
            " 14  form_tp            1001731 non-null  object \n",
            " 15  file_num           1001731 non-null  int64  \n",
            "dtypes: float64(1), int64(1), object(14)\n",
            "memory usage: 122.3+ MB\n"
          ],
          "name": "stdout"
        }
      ]
    },
    {
      "cell_type": "code",
      "metadata": {
        "id": "KgjnHvXPV8Q5",
        "outputId": "2a62dac7-7eea-4951-c03c-b503a845ca6b",
        "colab": {
          "base_uri": "https://localhost:8080/",
          "height": 326
        }
      },
      "source": [
        "fec.head()"
      ],
      "execution_count": 10,
      "outputs": [
        {
          "output_type": "execute_result",
          "data": {
            "text/html": [
              "<div>\n",
              "<style scoped>\n",
              "    .dataframe tbody tr th:only-of-type {\n",
              "        vertical-align: middle;\n",
              "    }\n",
              "\n",
              "    .dataframe tbody tr th {\n",
              "        vertical-align: top;\n",
              "    }\n",
              "\n",
              "    .dataframe thead th {\n",
              "        text-align: right;\n",
              "    }\n",
              "</style>\n",
              "<table border=\"1\" class=\"dataframe\">\n",
              "  <thead>\n",
              "    <tr style=\"text-align: right;\">\n",
              "      <th></th>\n",
              "      <th>cmte_id</th>\n",
              "      <th>cand_id</th>\n",
              "      <th>cand_nm</th>\n",
              "      <th>contbr_nm</th>\n",
              "      <th>contbr_city</th>\n",
              "      <th>contbr_st</th>\n",
              "      <th>contbr_zip</th>\n",
              "      <th>contbr_employer</th>\n",
              "      <th>contbr_occupation</th>\n",
              "      <th>contb_receipt_amt</th>\n",
              "      <th>contb_receipt_dt</th>\n",
              "      <th>receipt_desc</th>\n",
              "      <th>memo_cd</th>\n",
              "      <th>memo_text</th>\n",
              "      <th>form_tp</th>\n",
              "      <th>file_num</th>\n",
              "    </tr>\n",
              "  </thead>\n",
              "  <tbody>\n",
              "    <tr>\n",
              "      <th>0</th>\n",
              "      <td>C00410118</td>\n",
              "      <td>P20002978</td>\n",
              "      <td>Bachmann, Michelle</td>\n",
              "      <td>HARVEY, WILLIAM</td>\n",
              "      <td>MOBILE</td>\n",
              "      <td>AL</td>\n",
              "      <td>366010290</td>\n",
              "      <td>RETIRED</td>\n",
              "      <td>RETIRED</td>\n",
              "      <td>250.0</td>\n",
              "      <td>20-JUN-11</td>\n",
              "      <td>NaN</td>\n",
              "      <td>NaN</td>\n",
              "      <td>NaN</td>\n",
              "      <td>SA17A</td>\n",
              "      <td>736166</td>\n",
              "    </tr>\n",
              "    <tr>\n",
              "      <th>1</th>\n",
              "      <td>C00410118</td>\n",
              "      <td>P20002978</td>\n",
              "      <td>Bachmann, Michelle</td>\n",
              "      <td>HARVEY, WILLIAM</td>\n",
              "      <td>MOBILE</td>\n",
              "      <td>AL</td>\n",
              "      <td>366010290</td>\n",
              "      <td>RETIRED</td>\n",
              "      <td>RETIRED</td>\n",
              "      <td>50.0</td>\n",
              "      <td>23-JUN-11</td>\n",
              "      <td>NaN</td>\n",
              "      <td>NaN</td>\n",
              "      <td>NaN</td>\n",
              "      <td>SA17A</td>\n",
              "      <td>736166</td>\n",
              "    </tr>\n",
              "    <tr>\n",
              "      <th>2</th>\n",
              "      <td>C00410118</td>\n",
              "      <td>P20002978</td>\n",
              "      <td>Bachmann, Michelle</td>\n",
              "      <td>SMITH, LANIER</td>\n",
              "      <td>LANETT</td>\n",
              "      <td>AL</td>\n",
              "      <td>368633403</td>\n",
              "      <td>INFORMATION REQUESTED</td>\n",
              "      <td>INFORMATION REQUESTED</td>\n",
              "      <td>250.0</td>\n",
              "      <td>05-JUL-11</td>\n",
              "      <td>NaN</td>\n",
              "      <td>NaN</td>\n",
              "      <td>NaN</td>\n",
              "      <td>SA17A</td>\n",
              "      <td>749073</td>\n",
              "    </tr>\n",
              "    <tr>\n",
              "      <th>3</th>\n",
              "      <td>C00410118</td>\n",
              "      <td>P20002978</td>\n",
              "      <td>Bachmann, Michelle</td>\n",
              "      <td>BLEVINS, DARONDA</td>\n",
              "      <td>PIGGOTT</td>\n",
              "      <td>AR</td>\n",
              "      <td>724548253</td>\n",
              "      <td>NONE</td>\n",
              "      <td>RETIRED</td>\n",
              "      <td>250.0</td>\n",
              "      <td>01-AUG-11</td>\n",
              "      <td>NaN</td>\n",
              "      <td>NaN</td>\n",
              "      <td>NaN</td>\n",
              "      <td>SA17A</td>\n",
              "      <td>749073</td>\n",
              "    </tr>\n",
              "    <tr>\n",
              "      <th>4</th>\n",
              "      <td>C00410118</td>\n",
              "      <td>P20002978</td>\n",
              "      <td>Bachmann, Michelle</td>\n",
              "      <td>WARDENBURG, HAROLD</td>\n",
              "      <td>HOT SPRINGS NATION</td>\n",
              "      <td>AR</td>\n",
              "      <td>719016467</td>\n",
              "      <td>NONE</td>\n",
              "      <td>RETIRED</td>\n",
              "      <td>300.0</td>\n",
              "      <td>20-JUN-11</td>\n",
              "      <td>NaN</td>\n",
              "      <td>NaN</td>\n",
              "      <td>NaN</td>\n",
              "      <td>SA17A</td>\n",
              "      <td>736166</td>\n",
              "    </tr>\n",
              "  </tbody>\n",
              "</table>\n",
              "</div>"
            ],
            "text/plain": [
              "     cmte_id    cand_id             cand_nm  ... memo_text form_tp file_num\n",
              "0  C00410118  P20002978  Bachmann, Michelle  ...       NaN   SA17A   736166\n",
              "1  C00410118  P20002978  Bachmann, Michelle  ...       NaN   SA17A   736166\n",
              "2  C00410118  P20002978  Bachmann, Michelle  ...       NaN   SA17A   749073\n",
              "3  C00410118  P20002978  Bachmann, Michelle  ...       NaN   SA17A   749073\n",
              "4  C00410118  P20002978  Bachmann, Michelle  ...       NaN   SA17A   736166\n",
              "\n",
              "[5 rows x 16 columns]"
            ]
          },
          "metadata": {
            "tags": []
          },
          "execution_count": 10
        }
      ]
    },
    {
      "cell_type": "code",
      "metadata": {
        "id": "uTdrmAthMiBN",
        "outputId": "dcb82224-544d-40b6-da74-2a23f1721a48",
        "colab": {
          "base_uri": "https://localhost:8080/"
        }
      },
      "source": [
        "fec.iloc[235]"
      ],
      "execution_count": 11,
      "outputs": [
        {
          "output_type": "execute_result",
          "data": {
            "text/plain": [
              "cmte_id                  C00410118\n",
              "cand_id                  P20002978\n",
              "cand_nm         Bachmann, Michelle\n",
              "contbr_nm             LANE, MARCIA\n",
              "contbr_city               COLUMBUS\n",
              "                       ...        \n",
              "receipt_desc                   NaN\n",
              "memo_cd                        NaN\n",
              "memo_text                      NaN\n",
              "form_tp                      SA17A\n",
              "file_num                    736166\n",
              "Name: 235, Length: 16, dtype: object"
            ]
          },
          "metadata": {
            "tags": []
          },
          "execution_count": 11
        }
      ]
    },
    {
      "cell_type": "code",
      "metadata": {
        "id": "pg-De4ECDcMp",
        "outputId": "90d4ea09-46ed-4720-8fea-8080f6ebf03f",
        "colab": {
          "base_uri": "https://localhost:8080/"
        }
      },
      "source": [
        "unique_cands = fec.cand_nm.unique() \n",
        "print(unique_cands)"
      ],
      "execution_count": 12,
      "outputs": [
        {
          "output_type": "stream",
          "text": [
            "['Bachmann, Michelle' 'Romney, Mitt' 'Obama, Barack'\n",
            " \"Roemer, Charles E. 'Buddy' III\" 'Pawlenty, Timothy' 'Johnson, Gary Earl'\n",
            " 'Paul, Ron' 'Santorum, Rick' 'Cain, Herman' 'Gingrich, Newt'\n",
            " 'McCotter, Thaddeus G' 'Huntsman, Jon' 'Perry, Rick']\n"
          ],
          "name": "stdout"
        }
      ]
    },
    {
      "cell_type": "code",
      "metadata": {
        "id": "-HJ8-hIYx3qi",
        "outputId": "30d4e7fd-6cd5-4ce5-92f5-d7cc791f1094",
        "colab": {
          "base_uri": "https://localhost:8080/",
          "height": 35
        }
      },
      "source": [
        "unique_cands[2]"
      ],
      "execution_count": 14,
      "outputs": [
        {
          "output_type": "execute_result",
          "data": {
            "application/vnd.google.colaboratory.intrinsic+json": {
              "type": "string"
            },
            "text/plain": [
              "'Obama, Barack'"
            ]
          },
          "metadata": {
            "tags": []
          },
          "execution_count": 14
        }
      ]
    },
    {
      "cell_type": "code",
      "metadata": {
        "id": "Ug0ZW9dNx8mq"
      },
      "source": [
        "parties = {'Bachmann, Michelle': 'Republican',\n",
        "           'Cain, Herman': 'Republican', \n",
        "           'Gingrich, Newt': 'Republican', \n",
        "           'Huntsman, Jon': 'Republican', \n",
        "           'Johnson, Gary Earl': 'Republican', \n",
        "           'McCotter, Thaddeus G': 'Republican', \n",
        "           'Obama, Barack': 'Democrat', \n",
        "           'Paul, Ron': 'Republican', \n",
        "           'Pawlenty, Timothy': 'Republican', \n",
        "           'Perry, Rick': 'Republican', \n",
        "           \"Roemer, Charles E. 'Buddy' III\": 'Republican', \n",
        "           'Romney, Mitt': 'Republican', \n",
        "           'Santorum, Rick': 'Republican'}"
      ],
      "execution_count": 15,
      "outputs": []
    },
    {
      "cell_type": "code",
      "metadata": {
        "id": "TpzFNUTV0ClC",
        "outputId": "35a893c9-f6fb-46bc-85ea-f46898723025",
        "colab": {
          "base_uri": "https://localhost:8080/"
        }
      },
      "source": [
        "fec.cand_nm[123456:123461]\n"
      ],
      "execution_count": 16,
      "outputs": [
        {
          "output_type": "execute_result",
          "data": {
            "text/plain": [
              "123456    Obama, Barack\n",
              "123457    Obama, Barack\n",
              "123458    Obama, Barack\n",
              "123459    Obama, Barack\n",
              "123460    Obama, Barack\n",
              "Name: cand_nm, dtype: object"
            ]
          },
          "metadata": {
            "tags": []
          },
          "execution_count": 16
        }
      ]
    },
    {
      "cell_type": "code",
      "metadata": {
        "id": "W2TOVbyD0HwG",
        "outputId": "c454871b-5439-46ac-bc6c-96fc81abcf4c",
        "colab": {
          "base_uri": "https://localhost:8080/"
        }
      },
      "source": [
        "fec.cand_nm[123456:123461].map(parties)\n"
      ],
      "execution_count": 17,
      "outputs": [
        {
          "output_type": "execute_result",
          "data": {
            "text/plain": [
              "123456    Democrat\n",
              "123457    Democrat\n",
              "123458    Democrat\n",
              "123459    Democrat\n",
              "123460    Democrat\n",
              "Name: cand_nm, dtype: object"
            ]
          },
          "metadata": {
            "tags": []
          },
          "execution_count": 17
        }
      ]
    },
    {
      "cell_type": "code",
      "metadata": {
        "id": "4TwUgGbV8_Un",
        "outputId": "0ab056b2-b3c9-484e-ec64-09bce130e245",
        "colab": {
          "base_uri": "https://localhost:8080/"
        }
      },
      "source": [
        "fec['party'] = fec.cand_nm.map(parties)\n",
        "fec['party'].value_counts()"
      ],
      "execution_count": 18,
      "outputs": [
        {
          "output_type": "execute_result",
          "data": {
            "text/plain": [
              "Democrat      593746\n",
              "Republican    407985\n",
              "Name: party, dtype: int64"
            ]
          },
          "metadata": {
            "tags": []
          },
          "execution_count": 18
        }
      ]
    },
    {
      "cell_type": "code",
      "metadata": {
        "id": "brmXoEe69Si5"
      },
      "source": [
        ""
      ],
      "execution_count": null,
      "outputs": []
    }
  ]
}